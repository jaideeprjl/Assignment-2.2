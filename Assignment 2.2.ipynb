{
 "cells": [
  {
   "cell_type": "markdown",
   "metadata": {},
   "source": [
    "Assignment 2.2 - Create the below pattern using nested for loop in Python."
   ]
  },
  {
   "cell_type": "code",
   "execution_count": 2,
   "metadata": {},
   "outputs": [
    {
     "name": "stdout",
     "output_type": "stream",
     "text": [
      "* \r\n",
      "* * \r\n",
      "* * * \r\n",
      "* * * * \r\n",
      "* * * * * \r\n",
      "* * * * \r\n",
      "* * * \r\n",
      "* * \r\n",
      "* \r\n"
     ]
    }
   ],
   "source": [
    "n=5\n",
    "# n is the outer loop for number of rows\n",
    "for i in range(0, n):\n",
    "    # inner loop to handle number of columns depending on outer loop\n",
    "    for j in range(0, i+1):\n",
    "        # printing stars\n",
    "        print(\"* \",end=\"\")\n",
    "    print(\"\\r\")\n",
    "\n",
    "for i in range(n-1, 0, -1):\n",
    "    # inner loop to handle number of columns depending on outer loop\n",
    "    for j in range(0, i):\n",
    "        # printing stars\n",
    "        print(\"* \",end=\"\")\n",
    "        # ending line after each row\n",
    "    print(\"\\r\")\n"
   ]
  }
 ],
 "metadata": {
  "kernelspec": {
   "display_name": "Python 3",
   "language": "python",
   "name": "python3"
  },
  "language_info": {
   "codemirror_mode": {
    "name": "ipython",
    "version": 3
   },
   "file_extension": ".py",
   "mimetype": "text/x-python",
   "name": "python",
   "nbconvert_exporter": "python",
   "pygments_lexer": "ipython3",
   "version": "3.6.5"
  }
 },
 "nbformat": 4,
 "nbformat_minor": 2
}
